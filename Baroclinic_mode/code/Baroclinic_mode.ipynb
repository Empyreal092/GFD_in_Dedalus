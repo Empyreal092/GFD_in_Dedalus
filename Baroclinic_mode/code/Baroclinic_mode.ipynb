{
 "cells": [
  {
   "cell_type": "code",
   "execution_count": 1,
   "id": "9c9937ac-1c86-4bb7-9ab6-a7bd1bb5efe6",
   "metadata": {},
   "outputs": [],
   "source": [
    "import numpy as np\n",
    "import dedalus.public as d3\n",
    "\n",
    "import matplotlib\n",
    "import matplotlib.pyplot as plt\n",
    "import matplotlib.colors as colors\n",
    "import cmocean.cm as cmo\n",
    "\n",
    "plt.style.use('/mnt/c/Ryan_Data/Python_Tool/ryan_mplstyle.mplstyle')"
   ]
  },
  {
   "cell_type": "code",
   "execution_count": 2,
   "id": "dd44c7ae-7768-4d5e-9c21-2751aeb796db",
   "metadata": {},
   "outputs": [],
   "source": [
    "# Physical Parameters\n",
    "f = 1\n",
    "N0 = 1\n",
    "\n",
    "# Numerics Parameters\n",
    "Lz = 2*np.pi\n",
    "Nz = 128\n",
    "\n",
    "dtype = np.float64\n",
    "\n",
    "# Bases\n",
    "Lzt, Lzb = 0, -Lz\n",
    "\n",
    "coords = d3.CartesianCoordinates('z')\n",
    "dist = d3.Distributor(coords, dtype=dtype)\n",
    "zbasis = d3.Chebyshev(coords['z'], size=Nz, bounds=(Lzb, Lzt))"
   ]
  },
  {
   "cell_type": "code",
   "execution_count": 3,
   "id": "527dea41-b893-4d03-9b76-7603f1a638b4",
   "metadata": {},
   "outputs": [],
   "source": [
    "# Fields\n",
    "N2 = dist.Field(bases=zbasis)\n",
    "\n",
    "# Substitutions\n",
    "dz = lambda A: d3.Differentiate(A, coords['z'])"
   ]
  },
  {
   "cell_type": "code",
   "execution_count": 4,
   "id": "dd59f80a-5f47-4e90-9a3b-eace4aef4abf",
   "metadata": {},
   "outputs": [],
   "source": [
    "# Fields\n",
    "lamb2 = dist.Field()\n",
    "\n",
    "psi = dist.Field(bases=zbasis )\n",
    "\n",
    "# tau_psi = dist.Field()\n",
    "tau_psit = dist.Field( )\n",
    "tau_psib = dist.Field( )\n",
    "\n",
    "z = dist.local_grids(zbasis)\n",
    "\n",
    "lift_basis = zbasis.derivative_basis(2)\n",
    "lift = lambda A, n: d3.Lift(A, lift_basis, n)"
   ]
  },
  {
   "cell_type": "code",
   "execution_count": 5,
   "id": "c7338ec7-9872-4c84-9747-cd0e239a76d9",
   "metadata": {},
   "outputs": [
    {
     "data": {
      "text/plain": [
       "{'LHS': interp(Diff(<Field 140247989854736>), z=-6.283185307179586),\n",
       " 'RHS': 0,\n",
       " 'condition': 'True',\n",
       " 'tensorsig': (),\n",
       " 'dtype': numpy.float64,\n",
       " 'M': 0,\n",
       " 'L': interp(Diff(<Field 140247989854736>), z=-6.283185307179586),\n",
       " 'domain': <dedalus.core.domain.Domain at 0x7f8dee7d2600>,\n",
       " 'matrix_dependence': array([ True]),\n",
       " 'matrix_coupling': array([ True])}"
      ]
     },
     "execution_count": 5,
     "metadata": {},
     "output_type": "execute_result"
    }
   ],
   "source": [
    "# N2['g'] = N0**2*1\n",
    "N2['g'] = N0**2*np.exp(z)\n",
    "\n",
    "# Problem\n",
    "problem = d3.EVP([psi, tau_psit, tau_psib], eigenvalue=lamb2, namespace=locals())\n",
    "\n",
    "problem.add_equation(\"dz( (f**2/N2)*dz(psi) ) + lift(tau_psit,-1) + lift(tau_psib,-2) + lamb2*psi = 0\")\n",
    "problem.add_equation(\"dz(psi)(z=Lzt) = 0\"); problem.add_equation(\"dz(psi)(z=Lzb) = 0\")\n"
   ]
  },
  {
   "cell_type": "code",
   "execution_count": 6,
   "id": "a96e6093-b1df-41b3-a7ca-1b7be6243479",
   "metadata": {},
   "outputs": [
    {
     "name": "stdout",
     "output_type": "stream",
     "text": [
      "2024-04-16 10:55:39,417 subsystems 0/1 INFO :: Building subproblem matrices 1/1 (~100%) Elapsed: 0s, Remaining: 0s, Rate: 3.1e+00/s\n"
     ]
    }
   ],
   "source": [
    "solver = problem.build_solver()\n",
    "solver.solve_dense(solver.subproblems[0], rebuild_matrices=True)\n",
    "evals = solver.eigenvalues"
   ]
  },
  {
   "cell_type": "code",
   "execution_count": 7,
   "id": "8a4b450f-c1b6-4f0d-8b58-79a09e1aa770",
   "metadata": {},
   "outputs": [],
   "source": [
    "# evals"
   ]
  },
  {
   "cell_type": "code",
   "execution_count": 8,
   "id": "6a6c7952-f6b2-44a8-9817-7ba370589a5d",
   "metadata": {},
   "outputs": [],
   "source": [
    "smallest_idx = np.argsort(evals.real)[:4]"
   ]
  },
  {
   "cell_type": "code",
   "execution_count": 10,
   "id": "a20fcc60-72bf-4b61-9de4-f76a48959768",
   "metadata": {},
   "outputs": [
    {
     "name": "stderr",
     "output_type": "stream",
     "text": [
      "/home/ryan_wsl2/mambaforge/envs/dedalus3_new/lib/python3.12/site-packages/dedalus/tools/array.py:353: ComplexWarning: Casting complex values to real discards the imaginary part\n",
      "  dest[:] = src\n"
     ]
    },
    {
     "data": {
      "image/png": "[encoded data removed]",
      "text/plain": [
       "<Figure size 300x450 with 1 Axes>"
      ]
     },
     "metadata": {},
     "output_type": "display_data"
    }
   ],
   "source": [
    "fig=plt.figure(figsize=(3,4.5))\n",
    "\n",
    "for i in smallest_idx:\n",
    "    # print(evals[i])\n",
    "    solver.set_state(i,0)\n",
    "    psi_evec = solver.state[0]['g']\n",
    "    psi_evec /= psi_evec[np.argmax(np.abs(psi_evec))]\n",
    "\n",
    "    plt.plot(psi_evec,z[0].ravel(),label=r\"$\\lambda=%.2f$\" %np.real(evals[i]**0.5))\n",
    "\n",
    "plt.axvline(0,color='k',linewidth=0.5,linestyle='--')\n",
    "plt.xlim(-1.1,1.3)\n",
    "plt.legend()\n",
    "plt.ylabel(\"$z$\")\n",
    "\n",
    "# plt.savefig(\"figs/expo_strat_mode.png\", bbox_inches='tight', dpi=400)\n",
    "plt.savefig(\"figs/expo_strat_mode.pdf\", bbox_inches='tight')\n",
    "plt.show()"
   ]
  },
  {
   "cell_type": "code",
   "execution_count": null,
   "id": "dcd6eefc-de0a-4b91-b2a6-27ff0abd116b",
   "metadata": {},
   "outputs": [],
   "source": []
  },
  {
   "cell_type": "code",
   "execution_count": null,
   "id": "87093ad4-b6b2-4c5d-8bbb-9c97196522f7",
   "metadata": {},
   "outputs": [],
   "source": []
  }
 ],
 "metadata": {
  "kernelspec": {
   "display_name": "Python 3 (ipykernel)",
   "language": "python",
   "name": "python3"
  },
  "language_info": {
   "codemirror_mode": {
    "name": "ipython",
    "version": 3
   },
   "file_extension": ".py",
   "mimetype": "text/x-python",
   "name": "python",
   "nbconvert_exporter": "python",
   "pygments_lexer": "ipython3",
   "version": "3.12.2"
  }
 },
 "nbformat": 4,
 "nbformat_minor": 5
}
